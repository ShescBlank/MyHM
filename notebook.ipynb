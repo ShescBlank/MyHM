{
 "cells": [
  {
   "cell_type": "code",
   "execution_count": 1,
   "metadata": {},
   "outputs": [],
   "source": [
    "# autoreload modules\n",
    "%load_ext autoreload\n",
    "%autoreload 2"
   ]
  },
  {
   "cell_type": "code",
   "execution_count": 2,
   "metadata": {},
   "outputs": [],
   "source": [
    "import bempp.api\n",
    "import numpy as np"
   ]
  },
  {
   "cell_type": "markdown",
   "metadata": {},
   "source": [
    "## Test Assembly"
   ]
  },
  {
   "cell_type": "code",
   "execution_count": 3,
   "metadata": {},
   "outputs": [],
   "source": [
    "import MyHM.assembly as asb"
   ]
  },
  {
   "cell_type": "code",
   "execution_count": 4,
   "metadata": {},
   "outputs": [
    {
     "name": "stdout",
     "output_type": "stream",
     "text": [
      "\n",
      "(3, 1751)\n",
      "(3, 3486)\n"
     ]
    }
   ],
   "source": [
    "# grid = bempp.api.shapes.sphere(h=0.2)\n",
    "# grid = bempp.api.shapes.ellipsoid(r1=0.5, r2=1, r3=0.3, origin=(0, 0, 0), h=0.1)\n",
    "# grid = bempp.api.shapes.ellipsoid(3, 1, 1, h=h)\n",
    "# grid = bempp.api.shapes.cube(h=1)\n",
    "# grid = bempp.api.shapes.cube(h=0.5)\n",
    "grid = bempp.api.import_grid('grids/ribcage4-h-4.msh')\n",
    "# grid = bempp.api.import_grid('grids/ribcage3-h-1.msh')\n",
    "\n",
    "# grid.plot()\n",
    "print(grid.vertices.shape)\n",
    "print(grid.elements.shape)\n",
    "\n",
    "# bempp.api.DEFAULT_DEVICE_INTERFACE = 'opencl'\n",
    "bempp.api.DEFAULT_DEVICE_INTERFACE = 'numba'"
   ]
  },
  {
   "cell_type": "code",
   "execution_count": 5,
   "metadata": {},
   "outputs": [
    {
     "name": "stdout",
     "output_type": "stream",
     "text": [
      "CPU times: user 58.9 s, sys: 133 ms, total: 59 s\n",
      "Wall time: 16.9 s\n"
     ]
    }
   ],
   "source": [
    "space = bempp.api.function_space(grid, \"P\", 1)\n",
    "k = 7\n",
    "dlp = bempp.api.operators.boundary.helmholtz.double_layer(space, space, space, k)\n",
    "hyp = bempp.api.operators.boundary.helmholtz.hypersingular(space, space, space, k)\n",
    "boundary_operator = dlp\n",
    "%time matrix_wf = boundary_operator.weak_form()\n",
    "A = np.array(matrix_wf.A)"
   ]
  },
  {
   "cell_type": "code",
   "execution_count": 6,
   "metadata": {},
   "outputs": [
    {
     "name": "stdout",
     "output_type": "stream",
     "text": [
      "CPU times: user 5.71 s, sys: 29.6 ms, total: 5.74 s\n",
      "Wall time: 5.77 s\n",
      "CPU times: user 2.91 s, sys: 207 µs, total: 2.91 s\n",
      "Wall time: 480 ms\n"
     ]
    }
   ],
   "source": [
    "# Inputs:\n",
    "parameters = bempp.api.GLOBAL_PARAMETERS\n",
    "device_interface = \"numba\"\n",
    "# device_interface = \"opencl\"\n",
    "\n",
    "# Block rows and columns:\n",
    "cols = list(range(4,10))\n",
    "rows = list(range(0,4))\n",
    "\n",
    "# cols = list(range(grid.vertices.shape[1]))\n",
    "# rows = list(range(grid.vertices.shape[1]))\n",
    "\n",
    "# result = np.zeros((len(rows), len(cols)), dtype=np.complex128)\n",
    "\n",
    "# Assemble dense:\n",
    "%time result = asb.partial_dense_assembler(boundary_operator.descriptor, boundary_operator.domain, boundary_operator.dual_to_range, parameters, rows, cols)\n",
    "%time singular_sm = asb.singular_assembler_sparse(device_interface, boundary_operator.descriptor, boundary_operator.domain, boundary_operator.dual_to_range, parameters)  "
   ]
  },
  {
   "cell_type": "code",
   "execution_count": 7,
   "metadata": {},
   "outputs": [
    {
     "name": "stdout",
     "output_type": "stream",
     "text": [
      "CPU times: user 1.09 ms, sys: 6 µs, total: 1.09 ms\n",
      "Wall time: 3.4 ms\n"
     ]
    }
   ],
   "source": [
    "%%time\n",
    "meshgrid = np.meshgrid(rows, cols, indexing=\"ij\")\n",
    "result += singular_sm[meshgrid[0], meshgrid[1]]"
   ]
  },
  {
   "cell_type": "code",
   "execution_count": 8,
   "metadata": {},
   "outputs": [
    {
     "name": "stdout",
     "output_type": "stream",
     "text": [
      "6.646539573125444e-17\n",
      "9.308623842080668e-17\n"
     ]
    }
   ],
   "source": [
    "# Check results:\n",
    "print(np.linalg.norm(result - A[meshgrid[0], meshgrid[1]]))\n",
    "print(np.linalg.norm(result - A[meshgrid[0], meshgrid[1]]) / np.linalg.norm(A[meshgrid[0], meshgrid[1]]))"
   ]
  },
  {
   "cell_type": "markdown",
   "metadata": {},
   "source": [
    "## Test Trees"
   ]
  },
  {
   "cell_type": "code",
   "execution_count": 11,
   "metadata": {},
   "outputs": [],
   "source": [
    "# Hacer min_block_size"
   ]
  },
  {
   "cell_type": "code",
   "execution_count": 9,
   "metadata": {},
   "outputs": [],
   "source": [
    "import MyHM.structures as stt"
   ]
  },
  {
   "cell_type": "code",
   "execution_count": 10,
   "metadata": {},
   "outputs": [
    {
     "name": "stdout",
     "output_type": "stream",
     "text": [
      "\n",
      "(3, 1751)\n",
      "(3, 3486)\n"
     ]
    }
   ],
   "source": [
    "# grid = bempp.api.shapes.sphere(h=0.2)\n",
    "# grid = bempp.api.shapes.ellipsoid(r1=0.5, r2=1, r3=0.3, origin=(0, 0, 0), h=0.1)\n",
    "# grid = bempp.api.shapes.ellipsoid(3, 1, 1, h=h)\n",
    "# grid = bempp.api.shapes.cube(h=1)\n",
    "# grid = bempp.api.shapes.cube(h=0.5)\n",
    "grid = bempp.api.import_grid('grids/ribcage4-h-4.msh')\n",
    "# grid = bempp.api.import_grid('grids/ribcage3-h-1.msh')\n",
    "\n",
    "# grid.plot()\n",
    "print(grid.vertices.shape)\n",
    "print(grid.elements.shape)"
   ]
  },
  {
   "cell_type": "code",
   "execution_count": 11,
   "metadata": {},
   "outputs": [
    {
     "name": "stdout",
     "output_type": "stream",
     "text": [
      "CPU times: user 14.5 ms, sys: 0 ns, total: 14.5 ms\n",
      "Wall time: 14.5 ms\n",
      "CPU times: user 1.52 s, sys: 10 ms, total: 1.53 s\n",
      "Wall time: 1.52 s\n"
     ]
    }
   ],
   "source": [
    "bbox = grid.bounding_box\n",
    "vertices = grid.vertices\n",
    "space = bempp.api.function_space(grid, \"P\", 1)\n",
    "if not space.requires_dof_transformation:\n",
    "    dof_indices = list(range(vertices.shape[1]))\n",
    "else:\n",
    "    # TODO:\n",
    "    raise NotImplementedError\n",
    "    # space.dof_transformation.indices\n",
    "\n",
    "octree = stt.Octree(vertices.T, dof_indices, bbox, max_depth=4)\n",
    "%time octree.generate_tree()\n",
    "\n",
    "tree_3d = stt.Tree3D(octree)\n",
    "%time tree_3d.generate_adm_tree()"
   ]
  },
  {
   "cell_type": "code",
   "execution_count": 12,
   "metadata": {},
   "outputs": [
    {
     "data": {
      "text/plain": [
       "{'number_of_nodes': 44964,\n",
       " 'number_of_leaves': 41652,\n",
       " 'number_of_not_adm_leaves': 17630,\n",
       " 'number_of_adm_leaves': 24022}"
      ]
     },
     "execution_count": 12,
     "metadata": {},
     "output_type": "execute_result"
    }
   ],
   "source": [
    "tree_3d.stats"
   ]
  },
  {
   "cell_type": "markdown",
   "metadata": {},
   "source": [
    "## Test compression in tree"
   ]
  },
  {
   "cell_type": "code",
   "execution_count": 17,
   "metadata": {},
   "outputs": [],
   "source": [
    "import MyHM.structures as stt\n",
    "from MyHM.compression.aca import ACAPP_with_assembly, ACAPP"
   ]
  },
  {
   "cell_type": "code",
   "execution_count": 31,
   "metadata": {},
   "outputs": [
    {
     "name": "stdout",
     "output_type": "stream",
     "text": [
      "\n",
      "(3, 425)\n",
      "(3, 846)\n"
     ]
    }
   ],
   "source": [
    "grid = bempp.api.shapes.sphere(h=0.2)\n",
    "# grid = bempp.api.shapes.ellipsoid(r1=0.5, r2=1, r3=0.3, origin=(0, 0, 0), h=0.1)\n",
    "# grid = bempp.api.shapes.ellipsoid(3, 1, 1, h=h)\n",
    "# grid = bempp.api.shapes.cube(h=1)\n",
    "# grid = bempp.api.shapes.cube(h=0.5)\n",
    "# grid = bempp.api.import_grid('grids/ribcage4-h-4.msh')\n",
    "# grid = bempp.api.import_grid('grids/ribcage3-h-1.msh')\n",
    "\n",
    "# grid.plot()\n",
    "print(grid.vertices.shape)\n",
    "print(grid.elements.shape)\n",
    "\n",
    "# bempp.api.DEFAULT_DEVICE_INTERFACE = 'opencl'\n",
    "bempp.api.DEFAULT_DEVICE_INTERFACE = 'numba'"
   ]
  },
  {
   "cell_type": "code",
   "execution_count": 32,
   "metadata": {},
   "outputs": [
    {
     "name": "stdout",
     "output_type": "stream",
     "text": [
      "CPU times: user 7.45 ms, sys: 0 ns, total: 7.45 ms\n",
      "Wall time: 7.06 ms\n",
      "CPU times: user 1.79 s, sys: 40.7 ms, total: 1.83 s\n",
      "Wall time: 1.74 s\n"
     ]
    }
   ],
   "source": [
    "bbox = grid.bounding_box\n",
    "vertices = grid.vertices\n",
    "space = bempp.api.function_space(grid, \"P\", 1)\n",
    "if not space.requires_dof_transformation:\n",
    "    dof_indices = list(range(vertices.shape[1]))\n",
    "else:\n",
    "    # TODO:\n",
    "    raise NotImplementedError\n",
    "    # space.dof_transformation.indices\n",
    "\n",
    "octree = stt.Octree(vertices.T, dof_indices, bbox, max_depth=4)\n",
    "%time octree.generate_tree()\n",
    "\n",
    "tree_3d = stt.Tree3D(octree)\n",
    "%time tree_3d.generate_adm_tree()"
   ]
  },
  {
   "cell_type": "code",
   "execution_count": 35,
   "metadata": {},
   "outputs": [
    {
     "data": {
      "text/plain": [
       "{'number_of_nodes': 48591,\n",
       " 'number_of_leaves': 44321,\n",
       " 'number_of_not_adm_leaves': 33377,\n",
       " 'number_of_adm_leaves': 10944}"
      ]
     },
     "execution_count": 35,
     "metadata": {},
     "output_type": "execute_result"
    }
   ],
   "source": [
    "tree_3d.stats"
   ]
  },
  {
   "cell_type": "code",
   "execution_count": 33,
   "metadata": {},
   "outputs": [
    {
     "name": "stdout",
     "output_type": "stream",
     "text": [
      "CPU times: user 2.84 s, sys: 39.4 ms, total: 2.88 s\n",
      "Wall time: 404 ms\n"
     ]
    }
   ],
   "source": [
    "k = 7\n",
    "dlp = bempp.api.operators.boundary.helmholtz.double_layer(space, space, space, k)\n",
    "hyp = bempp.api.operators.boundary.helmholtz.hypersingular(space, space, space, k)\n",
    "boundary_operator = dlp\n",
    "parameters = bempp.api.GLOBAL_PARAMETERS\n",
    "device_interface = \"numba\"\n",
    "\n",
    "# Complete matrix:\n",
    "%time matrix_wf = boundary_operator.weak_form()\n",
    "A = np.array(matrix_wf.A)"
   ]
  },
  {
   "cell_type": "code",
   "execution_count": 34,
   "metadata": {
    "scrolled": true
   },
   "outputs": [
    {
     "name": "stdout",
     "output_type": "stream",
     "text": [
      "Tiempo adm: \t105.89084362983704s\n",
      "Tiempo no adm: \t55.633962631225586s\n",
      "CPU times: user 21min 39s, sys: 1.32 s, total: 21min 40s\n",
      "Wall time: 2min 42s\n"
     ]
    }
   ],
   "source": [
    "# Compressed matrix in tree\n",
    "%time tree_3d.add_compressed_matrix(ACAPP_with_assembly, device_interface, boundary_operator, parameters, epsilon=1e-3, verbose=False)\n",
    "\n",
    "# Resultados de tiempo (ribcage4-h-4 -> 1751 vértices):\n",
    "# CPU times: user 2h 51min 17s, sys: 18.7 s, total: 2h 51min 36s\n",
    "# Wall time: 21min 31s"
   ]
  },
  {
   "cell_type": "code",
   "execution_count": 36,
   "metadata": {},
   "outputs": [],
   "source": [
    "b = np.random.rand(A.shape[1])"
   ]
  },
  {
   "cell_type": "code",
   "execution_count": 37,
   "metadata": {},
   "outputs": [],
   "source": [
    "result1 = A@b"
   ]
  },
  {
   "cell_type": "code",
   "execution_count": 38,
   "metadata": {},
   "outputs": [],
   "source": [
    "tree_3d.add_vector(b)"
   ]
  },
  {
   "cell_type": "code",
   "execution_count": 39,
   "metadata": {},
   "outputs": [],
   "source": [
    "result2 = tree_3d.matvec_compressed(dtype=np.complex128)"
   ]
  },
  {
   "cell_type": "code",
   "execution_count": 40,
   "metadata": {},
   "outputs": [
    {
     "data": {
      "text/plain": [
       "0.00019681883859240122"
      ]
     },
     "execution_count": 40,
     "metadata": {},
     "output_type": "execute_result"
    }
   ],
   "source": [
    "np.linalg.norm(result1 - result2) / np.linalg.norm(result1)"
   ]
  },
  {
   "cell_type": "code",
   "execution_count": 41,
   "metadata": {},
   "outputs": [
    {
     "name": "stdout",
     "output_type": "stream",
     "text": [
      "CPU times: user 1.33 s, sys: 14 µs, total: 1.33 s\n",
      "Wall time: 1.33 s\n"
     ]
    }
   ],
   "source": [
    "# Este no llama a la parte del assembler, sino que usa la matriz entera:\n",
    "%time tree_3d.add_matrix_with_ACA(A, ACAPP, epsilon=1e-3, verbose=False)"
   ]
  },
  {
   "cell_type": "code",
   "execution_count": 42,
   "metadata": {},
   "outputs": [
    {
     "data": {
      "text/plain": [
       "0.00019681883859240076"
      ]
     },
     "execution_count": 42,
     "metadata": {},
     "output_type": "execute_result"
    }
   ],
   "source": [
    "result3 = tree_3d.matvec_compressed(dtype=np.complex128)\n",
    "np.linalg.norm(result1 - result3) / np.linalg.norm(result1)\n",
    "# Aunque se puede observar que ambos errores son cercanos"
   ]
  },
  {
   "cell_type": "code",
   "execution_count": null,
   "metadata": {},
   "outputs": [],
   "source": [
    "# Agregar la implementación del assembly en el árbol!\n",
    "# Verificar que no hayas nodos hojas admisibles con partes singulares!\n",
    "# Una vez hecho lo anterior, hacer gráfico de normas de diferencias entre matriz original y comprimida a medida que\n",
    "# disminuimos el valor de epsilon."
   ]
  }
 ],
 "metadata": {
  "kernelspec": {
   "display_name": "Python 3 (ipykernel)",
   "language": "python",
   "name": "python3"
  },
  "language_info": {
   "codemirror_mode": {
    "name": "ipython",
    "version": 3
   },
   "file_extension": ".py",
   "mimetype": "text/x-python",
   "name": "python",
   "nbconvert_exporter": "python",
   "pygments_lexer": "ipython3",
   "version": "3.10.12"
  }
 },
 "nbformat": 4,
 "nbformat_minor": 4
}
