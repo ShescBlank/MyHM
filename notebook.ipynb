{
 "cells": [
  {
   "cell_type": "code",
   "execution_count": 1,
   "metadata": {},
   "outputs": [],
   "source": [
    "# autoreload modules\n",
    "%load_ext autoreload\n",
    "%autoreload 2"
   ]
  },
  {
   "cell_type": "code",
   "execution_count": null,
   "metadata": {},
   "outputs": [],
   "source": [
    "import bempp.api\n",
    "import numpy as np"
   ]
  },
  {
   "cell_type": "markdown",
   "metadata": {},
   "source": [
    "## Test Assembly"
   ]
  },
  {
   "cell_type": "code",
   "execution_count": 2,
   "metadata": {},
   "outputs": [],
   "source": [
    "import MyHM.assembly as asb"
   ]
  },
  {
   "cell_type": "code",
   "execution_count": 3,
   "metadata": {},
   "outputs": [
    {
     "name": "stdout",
     "output_type": "stream",
     "text": [
      "\n",
      "(3, 1751)\n",
      "(3, 3486)\n"
     ]
    }
   ],
   "source": [
    "# grid = bempp.api.shapes.sphere(h=0.2)\n",
    "# grid = bempp.api.shapes.ellipsoid(r1=0.5, r2=1, r3=0.3, origin=(0, 0, 0), h=0.1)\n",
    "# grid = bempp.api.shapes.ellipsoid(3, 1, 1, h=h)\n",
    "# grid = bempp.api.shapes.cube(h=1)\n",
    "# grid = bempp.api.shapes.cube(h=0.5)\n",
    "grid = bempp.api.import_grid('grids/ribcage4-h-4.msh')\n",
    "# grid = bempp.api.import_grid('grids/ribcage3-h-1.msh')\n",
    "\n",
    "# grid.plot()\n",
    "print(grid.vertices.shape)\n",
    "print(grid.elements.shape)\n",
    "\n",
    "# bempp.api.DEFAULT_DEVICE_INTERFACE = 'opencl'\n",
    "bempp.api.DEFAULT_DEVICE_INTERFACE = 'numba'"
   ]
  },
  {
   "cell_type": "code",
   "execution_count": 4,
   "metadata": {},
   "outputs": [
    {
     "name": "stdout",
     "output_type": "stream",
     "text": [
      "CPU times: user 1min, sys: 228 ms, total: 1min\n",
      "Wall time: 18.4 s\n"
     ]
    }
   ],
   "source": [
    "space = bempp.api.function_space(grid, \"P\", 1)\n",
    "k = 7\n",
    "dlp = bempp.api.operators.boundary.helmholtz.double_layer(space, space, space, k)\n",
    "hyp = bempp.api.operators.boundary.helmholtz.hypersingular(space, space, space, k)\n",
    "boundary_operator = dlp\n",
    "%time matrix_wf = boundary_operator.weak_form()\n",
    "A = np.array(matrix_wf.A)"
   ]
  },
  {
   "cell_type": "code",
   "execution_count": 8,
   "metadata": {},
   "outputs": [
    {
     "name": "stdout",
     "output_type": "stream",
     "text": [
      "CPU times: user 18.7 ms, sys: 116 µs, total: 18.8 ms\n",
      "Wall time: 8.36 ms\n",
      "CPU times: user 2.97 s, sys: 9.9 ms, total: 2.98 s\n",
      "Wall time: 505 ms\n"
     ]
    }
   ],
   "source": [
    "# Inputs:\n",
    "parameters = bempp.api.GLOBAL_PARAMETERS\n",
    "device_interface = \"numba\"\n",
    "# device_interface = \"opencl\"\n",
    "\n",
    "# Block rows and columns:\n",
    "cols = list(range(4,10))\n",
    "rows = list(range(0,4))\n",
    "\n",
    "# cols = list(range(grid.vertices.shape[1]))\n",
    "# rows = list(range(grid.vertices.shape[1]))\n",
    "\n",
    "result = np.zeros((len(rows), len(cols)), dtype=np.complex128)\n",
    "\n",
    "# Assemble dense:\n",
    "%time asb.partial_dense_assembler(boundary_operator.descriptor, boundary_operator.domain, boundary_operator.dual_to_range, parameters, result, cols=cols, rows=rows)\n",
    "%time singular_sm = asb.singular_assembler_sparse(device_interface, boundary_operator.descriptor, boundary_operator.domain, boundary_operator.dual_to_range, parameters)  "
   ]
  },
  {
   "cell_type": "code",
   "execution_count": 9,
   "metadata": {},
   "outputs": [
    {
     "name": "stdout",
     "output_type": "stream",
     "text": [
      "CPU times: user 934 µs, sys: 6 µs, total: 940 µs\n",
      "Wall time: 727 µs\n"
     ]
    }
   ],
   "source": [
    "%%time\n",
    "meshgrid = np.meshgrid(rows, cols, indexing=\"ij\")\n",
    "result += singular_sm[meshgrid[0], meshgrid[1]]"
   ]
  },
  {
   "cell_type": "code",
   "execution_count": 10,
   "metadata": {},
   "outputs": [
    {
     "name": "stdout",
     "output_type": "stream",
     "text": [
      "6.646539573125444e-17\n",
      "9.308623842080668e-17\n"
     ]
    }
   ],
   "source": [
    "# Check results:\n",
    "print(np.linalg.norm(result - A[meshgrid[0], meshgrid[1]]))\n",
    "print(np.linalg.norm(result - A[meshgrid[0], meshgrid[1]]) / np.linalg.norm(A[meshgrid[0], meshgrid[1]]))"
   ]
  },
  {
   "cell_type": "markdown",
   "metadata": {},
   "source": [
    "## Test Trees"
   ]
  },
  {
   "cell_type": "code",
   "execution_count": null,
   "metadata": {},
   "outputs": [],
   "source": [
    "# Hacer min_block_size"
   ]
  },
  {
   "cell_type": "code",
   "execution_count": 24,
   "metadata": {},
   "outputs": [],
   "source": [
    "import MyHM.structures as stt"
   ]
  },
  {
   "cell_type": "code",
   "execution_count": 25,
   "metadata": {},
   "outputs": [
    {
     "name": "stdout",
     "output_type": "stream",
     "text": [
      "\n",
      "(3, 1751)\n",
      "(3, 3486)\n"
     ]
    }
   ],
   "source": [
    "# grid = bempp.api.shapes.sphere(h=0.2)\n",
    "# grid = bempp.api.shapes.ellipsoid(r1=0.5, r2=1, r3=0.3, origin=(0, 0, 0), h=0.1)\n",
    "# grid = bempp.api.shapes.ellipsoid(3, 1, 1, h=h)\n",
    "# grid = bempp.api.shapes.cube(h=1)\n",
    "# grid = bempp.api.shapes.cube(h=0.5)\n",
    "grid = bempp.api.import_grid('grids/ribcage4-h-4.msh')\n",
    "# grid = bempp.api.import_grid('grids/ribcage3-h-1.msh')\n",
    "\n",
    "# grid.plot()\n",
    "print(grid.vertices.shape)\n",
    "print(grid.elements.shape)"
   ]
  },
  {
   "cell_type": "code",
   "execution_count": 26,
   "metadata": {},
   "outputs": [
    {
     "name": "stdout",
     "output_type": "stream",
     "text": [
      "CPU times: user 18.4 ms, sys: 0 ns, total: 18.4 ms\n",
      "Wall time: 17.8 ms\n",
      "CPU times: user 1.82 s, sys: 90.4 ms, total: 1.91 s\n",
      "Wall time: 1.89 s\n"
     ]
    }
   ],
   "source": [
    "bbox = grid.bounding_box\n",
    "vertices = grid.vertices\n",
    "space = bempp.api.function_space(grid, \"P\", 1)\n",
    "if not space.requires_dof_transformation:\n",
    "    dof_indices = list(range(vertices.shape[1]))\n",
    "else:\n",
    "    # TODO:\n",
    "    raise NotImplementedError\n",
    "    # space.dof_transformation.indices\n",
    "\n",
    "octree = stt.Octree(vertices.T, dof_indices, bbox, max_depth=4)\n",
    "%time octree.generate_tree()\n",
    "\n",
    "tree_3d = stt.Tree3D(octree)\n",
    "%time tree_3d.generate_adm_tree()"
   ]
  },
  {
   "cell_type": "code",
   "execution_count": 27,
   "metadata": {},
   "outputs": [
    {
     "data": {
      "text/plain": [
       "{'number_of_nodes': 44963,\n",
       " 'number_of_leaves': 41652,\n",
       " 'number_of_not_adm_leaves': 17630,\n",
       " 'number_of_adm_leaves': 24022}"
      ]
     },
     "execution_count": 27,
     "metadata": {},
     "output_type": "execute_result"
    }
   ],
   "source": [
    "tree_3d.stats"
   ]
  },
  {
   "cell_type": "code",
   "execution_count": null,
   "metadata": {},
   "outputs": [],
   "source": [
    "# Agregar la implementación del assembly en el árbol!\n",
    "# Verificar que no hayas nodos hojas admisibles con partes singulares!\n",
    "# Una vez hecho lo anterior, hacer gráfico de normas de diferencias entre matriz original y comprimida a medida que\n",
    "# disminuimos el valor de epsilon."
   ]
  }
 ],
 "metadata": {
  "kernelspec": {
   "display_name": "Python 3 (ipykernel)",
   "language": "python",
   "name": "python3"
  },
  "language_info": {
   "codemirror_mode": {
    "name": "ipython",
    "version": 3
   },
   "file_extension": ".py",
   "mimetype": "text/x-python",
   "name": "python",
   "nbconvert_exporter": "python",
   "pygments_lexer": "ipython3",
   "version": "3.10.12"
  }
 },
 "nbformat": 4,
 "nbformat_minor": 4
}
